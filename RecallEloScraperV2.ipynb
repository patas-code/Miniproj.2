{
 "cells": [
  {
   "cell_type": "code",
   "execution_count": 1,
   "id": "f129daed-aa16-49ac-be52-49b874a97554",
   "metadata": {},
   "outputs": [],
   "source": [
    "# -----------------------> initialize libraries\n",
    "import os\n",
    "import json\n",
    "import pandas as pd\n",
    "from urllib.request import urlretrieve\n",
    "from zipfile import ZipFile\n",
    "import ijson\n",
    "import numpy as np"
   ]
  },
  {
   "cell_type": "code",
   "execution_count": 2,
   "id": "759021e8-6a78-449b-8ec4-945c3c35ee7f",
   "metadata": {},
   "outputs": [
    {
     "name": "stdout",
     "output_type": "stream",
     "text": [
      "ZIP already downloaded.\n",
      "JSON already extracted.\n"
     ]
    }
   ],
   "source": [
    "# -----------------------> Download FDA recall ZIP file\n",
    "url = \"https://download.open.fda.gov/device/recall/device-recall-0001-of-0001.json.zip\"\n",
    "zip_filename = \"device-recall-0001-of-0001.json.zip\"\n",
    "json_filename = \"device-recall-0001-of-0001.json\"\n",
    "\n",
    "if not os.path.exists(zip_filename):\n",
    "    print(\"Downloading FDA recall zip...\")\n",
    "    urlretrieve(url, zip_filename)\n",
    "else:\n",
    "    print(\"ZIP already downloaded.\")\n",
    "\n",
    "# -----------------------> Extract JSON\n",
    "if not os.path.exists(json_filename):\n",
    "    print(\"Extracting JSON...\")\n",
    "    with ZipFile(zip_filename, 'r') as z:\n",
    "        z.extract(json_filename)\n",
    "else:\n",
    "    print(\"JSON already extracted.\")"
   ]
  },
  {
   "cell_type": "code",
   "execution_count": 42,
   "id": "0c2f2942-d123-4bb1-9e65-de5147855850",
   "metadata": {},
   "outputs": [
    {
     "name": "stdout",
     "output_type": "stream",
     "text": [
      "Parsed 56268 recalls\n"
     ]
    }
   ],
   "source": [
    "# -----------------------> Stream JSON to avoid MemoryError\n",
    "records = []\n",
    "with open(json_filename, 'r', encoding='utf-8') as f:\n",
    "    parser = ijson.items(f, 'results.item')\n",
    "    for entry in parser:\n",
    "        manufacturer = entry.get('recalling_firm', '').strip()\n",
    "        if manufacturer == '':\n",
    "            manufacturer = \"Unknown\"\n",
    "\n",
    "        recall_status = entry.get('recall_status', '').strip().lower()\n",
    "        # Compute rating\n",
    "        if 'terminated' in recall_status:\n",
    "            rating = 1000\n",
    "        elif 'completed' in recall_status:\n",
    "            rating = 800\n",
    "        elif 'ongoing' in recall_status:\n",
    "            rating = 500\n",
    "        elif 'pending' in recall_status:\n",
    "            rating = 300\n",
    "        else:\n",
    "            rating = 600  # unknown/missing\n",
    "\n",
    "        records.append({\n",
    "            'manufacturer': manufacturer,\n",
    "            'product_description': entry.get('product_description', '').replace('\\n',' ').strip(),\n",
    "            'recall_status': recall_status,\n",
    "            'reason_for_recall': entry.get('reason_for_recall','').replace('\\n',' ').strip(),\n",
    "            'event_date_initiated': entry.get('event_date_initiated',''),\n",
    "            'recall_number': entry.get('recall_number','').strip(),\n",
    "            'rating': rating\n",
    "        })\n",
    "\n",
    "print(f\"Parsed {len(records)} recalls\")\n",
    "\n",
    "# -----------------------> Convert to DataFrame\n",
    "df = pd.DataFrame(records)"
   ]
  },
  {
   "cell_type": "code",
   "execution_count": 59,
   "id": "ea21ea34-4439-4c99-ab19-52c86e492a97",
   "metadata": {},
   "outputs": [
    {
     "name": "stdout",
     "output_type": "stream",
     "text": [
      "Saved raw recalls to recalls_with_ratings_summary.xlsx\n"
     ]
    }
   ],
   "source": [
    "# -----------------------> Save Raw Recalls Sheet\n",
    "output_file = \"recalls_with_ratings_summary.xlsx\"\n",
    "with pd.ExcelWriter(output_file, engine='openpyxl') as writer:\n",
    "    df.to_excel(writer, sheet_name=\"Raw_Recalls\", index=False)\n",
    "\n",
    "print(f\"Saved raw recalls to {output_file}\") #save columns w/ manufacturer name (mult. instances)"
   ]
  },
  {
   "cell_type": "code",
   "execution_count": 61,
   "id": "a9777616-b77d-4c59-9a92-2b6842f8cbf4",
   "metadata": {},
   "outputs": [],
   "source": [
    "# -----------------------> Aggregate per manufacturer\n",
    "short=pd.DataFrame({\n",
    "    'Company Nicknames': df['manufacturer'].astype(str).str.slice(0,4) # grab first 4 letters of each company\n",
    "})\n",
    "df.agg(total_recalls=('manufacturer','count'), avg_rating=('rating', 'mean'))\n",
    "df.reset_index()\n",
    "df['manufacturer']=short['Company Nicknames']\n",
    "output=df.groupby('manufacturer', as_index=False)['rating'].sum()\n",
    "output=output.sort_values('rating', ascending=False)\n",
    "output.to_excel(output_file, sheet_name=\"Manufacturer_Summary\", index=False) \n",
    "#saved new sheet in workbook with shortened names + rating combined"
   ]
  },
  {
   "cell_type": "code",
   "execution_count": 66,
   "id": "8530dd3c-70f8-4b83-8128-b7bb618c0f88",
   "metadata": {},
   "outputs": [],
   "source": [
    "# -----------------------> Compute ELO-style score\n",
    "newdf= pd.read_excel('recalls_with_ratings_summary.xlsx', sheet_name = 'Manufacturer_Summary')\n",
    "avg_rating = newdf['rating'].mean()\n",
    "newdf['elo'] = 1000 - 0.04 * (newdf['rating'] - rating) # k value arbitrary, company rating compared to average rating, 1000 gives us chess-style looking number\n",
    "#hieuristics mostly here, vibes-based coding for decision on k-value"
   ]
  },
  {
   "cell_type": "code",
   "execution_count": 68,
   "id": "f2214521-bf47-4769-ba75-e0b1531d31c8",
   "metadata": {},
   "outputs": [],
   "source": [
    "# -----------------------> Classify companies based on ELO percentiles\n",
    "percentiles = newdf['elo'].rank(pct=True)\n",
    "\n",
    "def classify(p):\n",
    "    if p >= 0.8:\n",
    "        return \"Excellent\"\n",
    "    elif p >= 0.6:\n",
    "        return \"Great\"\n",
    "    elif p >= 0.4:\n",
    "        return \"Average\"\n",
    "    elif p >= 0.2:\n",
    "        return \"Poor\"\n",
    "    else:\n",
    "        return \"Avoid\"\n",
    "\n",
    "newdf['rating_class'] = percentiles.apply(classify)"
   ]
  },
  {
   "cell_type": "code",
   "execution_count": 69,
   "id": "53e89b53-f428-4cac-a573-9b04d534efa7",
   "metadata": {},
   "outputs": [
    {
     "name": "stdout",
     "output_type": "stream",
     "text": [
      "Saved manufacturer summary to recalls_with_ratings_summary.xlsx\n"
     ]
    }
   ],
   "source": [
    "with pd.ExcelWriter(output_file, engine='openpyxl', mode='a') as writer:\n",
    "    newdf.to_excel(writer, sheet_name=\"Results\", index=False)\n",
    "\n",
    "print(f\"Saved manufacturer summary to {output_file}\")"
   ]
  }
 ],
 "metadata": {
  "kernelspec": {
   "display_name": "Python 3",
   "language": "python",
   "name": "python3"
  },
  "language_info": {
   "codemirror_mode": {
    "name": "ipython",
    "version": 3
   },
   "file_extension": ".py",
   "mimetype": "text/x-python",
   "name": "python",
   "nbconvert_exporter": "python",
   "pygments_lexer": "ipython3",
   "version": "3.13.9"
  }
 },
 "nbformat": 4,
 "nbformat_minor": 5
}
