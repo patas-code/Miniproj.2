{
 "cells": [
  {
   "cell_type": "markdown",
   "id": "823a7002",
   "metadata": {},
   "source": [
    "Cata Santos Anzola & Mitchell Esbenshade | BIOE 4350 | 20/10/2025\n"
   ]
  },
  {
   "cell_type": "code",
   "execution_count": null,
   "id": "2714b313",
   "metadata": {},
   "outputs": [],
   "source": [
    "#⠀⡿⢘⠀⠀⢠⠆⠀⠀⠀⡰⠬⢉⣽⣿⣿⡿⠟⠋⠁⠀⢿⣞⣷⣾⣿⣿⣿⣿⣿⣿⣿⣿⣿⣿\n",
    "#⢀⡟⡌⠀⠀⢐⠌⠀⠀⠄⡡⠃⠞⠛⠉⠀⠀⠀⠀⠀⠀⣾⣿⣿⣿⣿⣿⣿⣿⣿⣿⣿⣿⣿⣿\n",
    "#⣤⡇⡆⠁⠀⢘⡎⢤⠀⠀⠁⠀⠀⠀⠀⠀⠂⠠⠄⠂⢀⢹⣿⣿⣿⢸⣿⣿⣿⣿⣿⣿⣿⣿⣿\n",
    "#⢸⡇⠅⠂⠀⡸⡜⢢⠅⠀⣀⡀⡀⠤⢶⣺⣿⡒⢄⠀⢭⣘⡻⣿⣿⢸⣿⣿⣿⣿⣿⣿⣿⣿⣿\n",
    "#⢾⡀⠁⠆⠀⢱⡎⢁⣶⣿⣿⠁⣸⡇⢸⣇⣿⣷⢸⣆⠀⣿⡿⣆⠹⢾⣿⣿⣿⣿⣿⣿⣿⣿⣿\n",
    "#⢺⢸⠀⠀⠀⢎⣴⣾⠿⠟⠿⣷⣿⣫⣾⣿⣿⣿⡎⣿⠿⠟⠉⠚⠻⣮⡙⣿⣿⣿⣿⣿⣿⣿⣿\n",
    "#⣻⢨⠐⠀⣠⣾⠿⠉⠀⠀⠀⠀⠙⢿⣿⣿⣿⣿⣷⣅⠀⠀⠀⠀⠀⢩⣙⠚⣿⣿⣿⣿⣿⣿⣿\n",
    "#⣽⠰⠀⠈⠁⣠⣶⡀⠀⠀⠀⢀⢀⣾⣿⣿⣿⡿⣿⣿⣤⣤⣀⣀⣤⣾⠿⠇⠈⢿⣿⣿⣿⣿⣿            hi class\n",
    "#⣿⠆⠀⠀⡀⠙⠉⢀⢽⣿⣿⣿⣿⡿⢏⠿⡿⡭⢭⠻⣿⣿⣿⣿⣿⣷⣾⠐⡆⠈⢿⡿⠿⠿⠟\n",
    "#⢻⡃⠀⣀⣠⡄⠀⣈⣺⣿⢿⣿⣿⣿⣦⣀⠓⠃⣠⣾⣿⣛⣿⣟⣿⣿⠷⢿⣿⣇⢠⣤⣴⣶⣾\n",
    "#⠀⠀⢐⣾⠗⠈⠁⠤⣾⣷⣿⣾⣿⣿⣿⣿⡅⢌⣿⣿⣿⣿⣷⣿⣿⣽⣏⡀⠀⠉⣘⣚⡉⣩⣾\n",
    "#⠀⠄⠀⣀⠄⡠⣴⣾⣿⣿⣿⣿⣿⣷⣶⣤⣴⣦⣬⣴⣿⣿⣿⣿⣿⣿⣿⣶⣵⣈⢟⡟⣱⣿⣿\n",
    "#⠀⠂⠈⣡⣾⣾⣿⣿⣿⣿⣿⣿⣿⣿⣿⣿⣿⣿⣿⣿⣿⣿⣿⣿⣿⣿⣿⣿⢷⡿⢗⣵⣿⣿⣿\n",
    "#⠀⠀⢱⣿⣷⣿⣿⣿⣿⣿⣿⣿⣿⣿⣿⣿⣿⣿⣿⣿⣿⣿⣿⣿⣿⣿⣿⣿⡇⣾⣿⣿⣿⣿⣿\n",
    "#⠀⠀⣿⣿⣿⣿⣿⣿⣿⣿⣿⣿⣿⣿⣿⣿⣿⣿⣿⣿⣿⣿⣿⣿⣿⣿⣿⣿⣷⢻⣿⣿⣿⣿⣷\n",
    "#⡀⣨⣿⣿⣿⣿⣿⣿⣿⣿⣿⣿⣿⣿⣿⣿⣿⣿⣿⣿⣿⣿⣿⣿⣿⣿⣿⣿⣿⣼⢿⣿⣿⣿⣿\n",
    "#⢳⣿⣿⣿⣿⣿⣿⣿⣿⣿⣿⣿⣿⣿⣿⣿⣿⣿⣿⣿⣿⣿⣿⣿⣿⣿⣿⣿⣿⣟⠮⠹⠜⣯⣛\n",
    "#⣾⣿⣿⣿⣿⣿⣿⣿⣿⣿⣿⣿⣿⣿⣿⣿⣿⣿⣿⣿⣿⣿⣿⣿⣿⣿⣿⣿⣿⡧⠀⠀⠀⠀⠉"
   ]
  },
  {
   "cell_type": "code",
   "execution_count": 45,
   "id": "ae7e5889",
   "metadata": {},
   "outputs": [],
   "source": [
    "# -----------------------> initialize all libraries and maybe pull from MAUDE if have time lel\n",
    "import json\n",
    "import pandas as pd\n",
    "from urllib.request import urlretrieve\n",
    "from zipfile import ZipFile\n",
    "import os\n",
    "from collections import Counter\n",
    "import openpyxl\n",
    "import re\n",
    "from collections import defaultdict\n",
    "import numpy as np\n",
    "# -----------------------> interface with FDA recall website and download database\n",
    "# link: https://open.fda.gov/apis/device/recall/download/\n",
    "# MAUDE website version: https://www.accessdata.fda.gov/scripts/cdrh/cfdocs/cfres/res.cfm"
   ]
  },
  {
   "cell_type": "code",
   "execution_count": 16,
   "id": "18532c16",
   "metadata": {},
   "outputs": [
    {
     "name": "stdout",
     "output_type": "stream",
     "text": [
      "Downloaded: device-recall-0001-of-0001.json.zip\n",
      "Saved Excel file with raw recalls and manufacturer summary.\n"
     ]
    }
   ],
   "source": [
    "# ---- Download FDA recall ZIP file ----\n",
    "url = \"https://download.open.fda.gov/device/recall/device-recall-0001-of-0001.json.zip\"\n",
    "filename = \"device-recall-0001-of-0001.json.zip\"\n",
    "urlretrieve(url, filename)\n",
    "print(\"Downloaded:\", filename)\n",
    "\n",
    "# ---- Extract JSON ----\n",
    "with ZipFile(filename, 'r') as zObject:\n",
    "    zObject.extractall()\n",
    "\n",
    "# ---- Load JSON ----\n",
    "with open('device-recall-0001-of-0001.json', encoding='utf-8') as f:\n",
    "    raw = json.load(f)\n",
    "\n",
    "# ---- Parse data ----\n",
    "records = []\n",
    "for entry in raw['results']:\n",
    "    record = {\n",
    "        'manufacturer': entry.get('recalling_firm', '').strip(),\n",
    "        'product_description': entry.get('product_description', '').replace('\\n', ' ').strip(),\n",
    "        'recall_status': entry.get('recall_status', '').strip(),\n",
    "        'reason_for_recall': entry.get('reason_for_recall', '').replace('\\n', ' ').strip(),\n",
    "        'event_date_initiated': entry.get('event_date_initiated', ''),\n",
    "        'recall_number': entry.get('recall_number', '').strip()  # <-- default to empty string if missing\n",
    "    }\n",
    "    records.append(record)\n",
    "    \n",
    "    # ---- Compute rating (higher is better) ----\n",
    "    status = record['recall_status'].lower()\n",
    "    if 'terminated' in status:\n",
    "        rating = 1000\n",
    "    elif 'completed' in status:\n",
    "        rating = 800\n",
    "    elif 'ongoing' in status:\n",
    "        rating = 500\n",
    "    elif 'pending' in status:\n",
    "        rating = 300\n",
    "    else:\n",
    "        rating = 600  # unknown/missing\n",
    "    \n",
    "    record['rating'] = rating\n",
    "    records.append(record)\n",
    "\n",
    "# ---- Convert to DataFrame ----\n",
    "df = pd.DataFrame(records)\n",
    "\n",
    "# ---- Aggregate per manufacturer ----\n",
    "manufacturer_summary = (\n",
    "    df.groupby('manufacturer')\n",
    "      .agg(total_recalls=('recall_number', 'count'),\n",
    "           avg_rating=('rating', 'mean'))\n",
    "      .reset_index()\n",
    "      .sort_values('avg_rating', ascending=False)  # higher rating = better\n",
    ")\n",
    "\n",
    "# ---- Save to Excel with multiple sheets ----\n",
    "with pd.ExcelWriter(\"recalls_with_ratings.xlsx\", engine='xlsxwriter') as writer:\n",
    "    df.to_excel(writer, sheet_name=\"Raw_Recalls\", index=False)\n",
    "    manufacturer_summary.to_excel(writer, sheet_name=\"Manufacturer_Summary\", index=False)\n",
    "\n",
    "print(\"Saved Excel file with raw recalls and manufacturer summary.\")"
   ]
  },
  {
   "cell_type": "code",
   "execution_count": null,
   "id": "febb1e26",
   "metadata": {},
   "outputs": [],
   "source": [
    "sort = pd.read_excel('recalls_with_ratings.xlsx')\n",
    "# make new df with short names\n",
    "sorted = pd.DataFrame ({\n",
    "    'Company Nicknames': sort['manufacturer'].astype(str).str.slice(0,4) # grab first 4 letters of each company name\n",
    "})\n",
    "sort['manufacturer']=sorted['Company Nicknames']\n",
    "output = sort.groupby('manufacturer', as_index=False)['rating'].sum()\n",
    "# sort by score bc we like judging mhm\n",
    "output = output.sort_values('rating', ascending=False)\n",
    "output.to_excel('output.xlsx', index=False)"
   ]
  },
  {
   "cell_type": "code",
   "execution_count": null,
   "id": "21f96503",
   "metadata": {},
   "outputs": [
    {
     "name": "stdout",
     "output_type": "stream",
     "text": [
      "     manufacturer   rating            elo\n",
      "2006         I.T.     1200    2971.325183\n",
      "2044         ACTI     1200    2971.325183\n",
      "2043         AGIL     1200    2971.325183\n",
      "2042         AMED     1200    2971.325183\n",
      "2041         p-Ch     1200    2971.325183\n",
      "...           ...      ...            ...\n",
      "4            Medt  3216000 -125620.674817\n",
      "3            Phil  3394000 -132740.674817\n",
      "2            Siem  3800400 -148996.674817\n",
      "1            Zimm  3988000 -156500.674817\n",
      "0            Stry  4013600 -157524.674817\n",
      "\n",
      "[2045 rows x 3 columns]\n"
     ]
    }
   ],
   "source": [
    "## company elo calculation ------> chess elo inspired but not actually chess sorry dr. tam\n",
    "given=pd.read_excel('output.xlsx')\n",
    "avg=given['rating'].mean()\n",
    "\n",
    "elo=1000-0.04*(given['rating']-avg) # references average rating for score, modifier is just to make it look chess-like\n",
    "elo=elo.to_frame()\n",
    "given['elo']=elo\n",
    "given = given.sort_values(by='elo', ascending=False)\n",
    "print(given)\n",
    "given.to_excel('eloscores.xlsx', index=False,) # ok done but its rly ugly"
   ]
  }
 ],
 "metadata": {
  "kernelspec": {
   "display_name": "Python 3",
   "language": "python",
   "name": "python3"
  },
  "language_info": {
   "codemirror_mode": {
    "name": "ipython",
    "version": 3
   },
   "file_extension": ".py",
   "mimetype": "text/x-python",
   "name": "python",
   "nbconvert_exporter": "python",
   "pygments_lexer": "ipython3",
   "version": "3.13.9"
  }
 },
 "nbformat": 4,
 "nbformat_minor": 5
}
