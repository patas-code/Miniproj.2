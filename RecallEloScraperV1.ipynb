{
 "cells": [
  {
   "cell_type": "code",
   "execution_count": 1,
   "id": "f129daed-aa16-49ac-be52-49b874a97554",
   "metadata": {},
   "outputs": [],
   "source": [
    "# -----------------------> initialize libraries\n",
    "import os\n",
    "import json\n",
    "import pandas as pd\n",
    "from urllib.request import urlretrieve\n",
    "from zipfile import ZipFile\n",
    "import ijson\n",
    "import numpy as np"
   ]
  },
  {
   "cell_type": "code",
   "execution_count": 2,
   "id": "759021e8-6a78-449b-8ec4-945c3c35ee7f",
   "metadata": {},
   "outputs": [
    {
     "name": "stdout",
     "output_type": "stream",
     "text": [
      "ZIP already downloaded.\n",
      "JSON already extracted.\n"
     ]
    }
   ],
   "source": [
    "# -----------------------> Download FDA recall ZIP file\n",
    "url = \"https://download.open.fda.gov/device/recall/device-recall-0001-of-0001.json.zip\"\n",
    "zip_filename = \"device-recall-0001-of-0001.json.zip\"\n",
    "json_filename = \"device-recall-0001-of-0001.json\"\n",
    "\n",
    "if not os.path.exists(zip_filename):\n",
    "    print(\"Downloading FDA recall zip...\")\n",
    "    urlretrieve(url, zip_filename)\n",
    "else:\n",
    "    print(\"ZIP already downloaded.\")\n",
    "\n",
    "# -----------------------> Extract JSON\n",
    "if not os.path.exists(json_filename):\n",
    "    print(\"Extracting JSON...\")\n",
    "    with ZipFile(zip_filename, 'r') as z:\n",
    "        z.extract(json_filename)\n",
    "else:\n",
    "    print(\"JSON already extracted.\")"
   ]
  },
  {
   "cell_type": "code",
   "execution_count": null,
   "id": "0c2f2942-d123-4bb1-9e65-de5147855850",
   "metadata": {},
   "outputs": [],
   "source": [
    "# -----------------------> Stream JSON to avoid MemoryError\n",
    "records = []\n",
    "with open(json_filename, 'r', encoding='utf-8') as f:\n",
    "    parser = ijson.items(f, 'results.item')\n",
    "    for entry in parser:\n",
    "        manufacturer = entry.get('recalling_firm', '').strip()\n",
    "        if manufacturer == '':\n",
    "            manufacturer = \"Unknown\"\n",
    "\n",
    "        recall_status = entry.get('recall_status', '').strip().lower()\n",
    "        # Compute rating\n",
    "        if 'terminated' in recall_status:\n",
    "            rating = 1000\n",
    "        elif 'completed' in recall_status:\n",
    "            rating = 800\n",
    "        elif 'ongoing' in recall_status:\n",
    "            rating = 500\n",
    "        elif 'pending' in recall_status:\n",
    "            rating = 300\n",
    "        else:\n",
    "            rating = 600  # unknown/missing\n",
    "\n",
    "        records.append({\n",
    "            'manufacturer': manufacturer,\n",
    "            'product_description': entry.get('product_description', '').replace('\\n',' ').strip(),\n",
    "            'recall_status': recall_status,\n",
    "            'reason_for_recall': entry.get('reason_for_recall','').replace('\\n',' ').strip(),\n",
    "            'event_date_initiated': entry.get('event_date_initiated',''),\n",
    "            'recall_number': entry.get('recall_number','').strip(),\n",
    "            'rating': rating\n",
    "        })\n",
    "\n",
    "print(f\"Parsed {len(records)} recalls\")\n",
    "\n",
    "# -----------------------> Convert to DataFrame\n",
    "df = pd.DataFrame(records)"
   ]
  },
  {
   "cell_type": "code",
   "execution_count": null,
   "id": "ea21ea34-4439-4c99-ab19-52c86e492a97",
   "metadata": {},
   "outputs": [],
   "source": [
    "# -----------------------> Save Raw Recalls Sheet\n",
    "output_file = \"recalls_with_ratings_summary.xlsx\"\n",
    "with pd.ExcelWriter(output_file, engine='openpyxl') as writer:\n",
    "    df.to_excel(writer, sheet_name=\"Raw_Recalls\", index=False)\n",
    "\n",
    "print(f\"Saved raw recalls to {output_file}\")"
   ]
  },
  {
   "cell_type": "code",
   "execution_count": null,
   "id": "a9777616-b77d-4c59-9a92-2b6842f8cbf4",
   "metadata": {},
   "outputs": [],
   "source": [
    "# -----------------------> Aggregate per manufacturer\n",
    "manufacturer_summary = (\n",
    "    df.groupby('manufacturer')\n",
    "      .agg(total_recalls=('recall_number','count'),\n",
    "           avg_rating=('rating','mean'))\n",
    "      .reset_index()\n",
    "      .sort_values('total_recalls', ascending=False)  # largest companies first\n",
    ")"
   ]
  },
  {
   "cell_type": "code",
   "execution_count": null,
   "id": "8530dd3c-70f8-4b83-8128-b7bb618c0f88",
   "metadata": {},
   "outputs": [],
   "source": [
    "# -----------------------> Compute ELO-style score\n",
    "avg_rating = manufacturer_summary['avg_rating'].mean()\n",
    "manufacturer_summary['elo'] = 1000 - 0.04 * (manufacturer_summary['avg_rating'] - avg_rating)"
   ]
  },
  {
   "cell_type": "code",
   "execution_count": null,
   "id": "f2214521-bf47-4769-ba75-e0b1531d31c8",
   "metadata": {},
   "outputs": [],
   "source": [
    "# -----------------------> Classify companies based on ELO percentiles\n",
    "percentiles = manufacturer_summary['elo'].rank(pct=True)\n",
    "\n",
    "def classify(p):\n",
    "    if p >= 0.8:\n",
    "        return \"Excellent\"\n",
    "    elif p >= 0.6:\n",
    "        return \"Great\"\n",
    "    elif p >= 0.4:\n",
    "        return \"Average\"\n",
    "    elif p >= 0.2:\n",
    "        return \"Poor\"\n",
    "    else:\n",
    "        return \"Avoid\"\n",
    "\n",
    "manufacturer_summary['rating_class'] = percentiles.apply(classify)"
   ]
  },
  {
   "cell_type": "code",
   "execution_count": null,
   "id": "53e89b53-f428-4cac-a573-9b04d534efa7",
   "metadata": {},
   "outputs": [],
   "source": [
    "# -----------------------> Save Manufacturer Summary Sheet\n",
    "with pd.ExcelWriter(output_file, engine='openpyxl', mode='a') as writer:\n",
    "    manufacturer_summary.to_excel(writer, sheet_name=\"Manufacturer_Summary\", index=False)\n",
    "\n",
    "print(f\"Saved manufacturer summary to {output_file}\")"
   ]
  }
 ],
 "metadata": {
  "kernelspec": {
   "display_name": "Python 3 (ipykernel)",
   "language": "python",
   "name": "python3"
  },
  "language_info": {
   "codemirror_mode": {
    "name": "ipython",
    "version": 3
   },
   "file_extension": ".py",
   "mimetype": "text/x-python",
   "name": "python",
   "nbconvert_exporter": "python",
   "pygments_lexer": "ipython3",
   "version": "3.13.5"
  }
 },
 "nbformat": 4,
 "nbformat_minor": 5
}
